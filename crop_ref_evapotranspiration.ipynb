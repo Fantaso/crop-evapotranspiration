{
 "cells": [
  {
   "cell_type": "markdown",
   "metadata": {},
   "source": [
    "# RESOURCE PAPER FOLLOW\n",
    "http://www.fao.org/docrep/X0490E/x0490e06.htm#TopOfPage"
   ]
  },
  {
   "cell_type": "markdown",
   "metadata": {},
   "source": [
    " ## UTILITIES\n",
    "methods and functions"
   ]
  },
  {
   "cell_type": "code",
   "execution_count": 16,
   "metadata": {},
   "outputs": [],
   "source": [
    "def celcius_to_kelvin(celcius):\n",
    "    return celcius + 273.16\n",
    "\n",
    "def kelvin_to_celcius(kelvin):\n",
    "    return kelvin - 273.16   \n",
    "\n",
    "def MJ_per_m2_day_to_mm_per_day(MJ):\n",
    "    return MJ * 0.408\n",
    "\n",
    "def mm_per_day_to_MJ_per_m2_day(mm):\n",
    "    return mm / 0.408"
   ]
  },
  {
   "cell_type": "markdown",
   "metadata": {},
   "source": [
    " # STEP # 1\n",
    " ## VARIABLES AND CONSTANTS"
   ]
  },
  {
   "cell_type": "code",
   "execution_count": 17,
   "metadata": {},
   "outputs": [],
   "source": [
    "# aerodynamic_resistance\n",
    "measurements_height = 4\n",
    "\n",
    "crop_height_ref = 0.12 # [m]\n",
    "wind_speed_measurement = 1 # MEASUREMENT [m / s]\n",
    "\n",
    "wind_speed_measurement_height = measurements_height # [m] \n",
    "air_rh_measurement_height = measurements_height # [m]\n",
    "air_temp_measurement_height = measurements_height # [m]\n",
    "KARMAN_CONSTANT = 0.41 # [None]\n",
    "\n",
    "# surface_resistance\n",
    "STOMATAL_RESISTANCE = 100 # [s / m] plant surface openness to disipate water vapor - the lost of water irrigated throught the plant's veins\n",
    "\n",
    "# average_atmospheric_pressure\n",
    "elevation_above_sea_level = 1800 # [m] MEASUREMENT \n",
    "\n",
    "# psychrometric_constant\n",
    "VAPORIZATION_LATENT_HEAT = 2.45 # [MJ / kg] # This is the latent heat for an air temperature of about 20°C.\n",
    "atmospheric_pressure = 1 # [kPa]\n",
    "SPECIFIC_AIR_HEAT_AT_CONSTANT_PRESSURE = 1.013e-3 # [MJ / kg * Celcius]\n",
    "RATIO_MOLECULAR_WEIGHT_WATER_VAPOUR_AND_DRY_AIR = 0.622 # [None] is a ratio - no units\n",
    "\n",
    "# air_temp_mean\n",
    "air_temp_max = 25 # [°C] -> converted to kelvin\n",
    "air_temp_min = 18 # [°C] -> converted to kelvin\n",
    "\n",
    "# actual_vapour_pressure\n",
    "air_rhumidity_max = 82 # [%]\n",
    "air_rhumidity_min = 54 # [%]\n",
    "# actual_vapour_pressure_rh\n",
    "from statistics import mean \n",
    "air_rhumidity_mean = mean([air_rhumidity_max, air_rhumidity_min])\n",
    "\n",
    "# STEP 3 - RADIATION\n",
    "# extraterrestrial_radiation (Ra)\n",
    "from datetime import datetime\n",
    "from math import radians\n",
    "# day_of_the_year = 154 # [day] between 1 - 365\n",
    "day_of_the_year = int(datetime(2017,5,15).strftime('%j')) # [day] between 1 - 365\n",
    "latitude = radians(-22.54) # [°] coordinates, location global position , neede in radians\n",
    "SOLAR_CONSTANT = 0.082 # [MJ / pow(m, 2) * min]\n",
    "\n",
    "# global_radiation\n",
    "measured_daylight_hour_duration = 7.1 # amounth of daylight hours in a day.\n",
    "REGRESSION_CONSTANT = 0.25 # only when there is no solar radiation data, calculated like this - expressing the fraction of extraterrestrial radiation reaching the earth on overcast days (n or measured_daylight_length = 0)\n",
    "FRACTION_EXTRATERRESTRIAL_RADIATION = 0.50 # fraction of extraterrestrial radiation reaching the earth on clear days (n = N) or (measured_daylight_length = max_daylight_length)\n",
    "\n",
    "# net solar o shortwave radiation\n",
    "albedo = 0.23 # reflection factor - photons refelcted back due to a reflective surface like snow, mirror, water etc.\n",
    "\n",
    "# longwave radiation\n",
    "STEFAN_BOLTZMANN_CONSTANT = 4.903e-9 # [4.903e-9 MJ / pow(K, 4) * pow(m, 2) * day]\n",
    "\n",
    "# soil_flux\n",
    "air_temp_previous_month = 14.1 # Celcius\n",
    "air_temp_current_month = 16.1 # Celcius\n",
    "air_temp_next_month = 18.8 # Celcius"
   ]
  },
  {
   "cell_type": "markdown",
   "metadata": {},
   "source": [
    " # STEP # 2\n",
    " \n",
    " ## WEATHER ANALYSIS\n",
    " ---\n",
    "\n",
    "* **ALTITUDE** abovve sea level\n",
    "* **LATITUDE & LONGITUDE** location\n",
    "* **TEMPERATURE** average, daily min and max temperature using mean air temperature instead of maximum and minimum air temperatures yields a lower saturation vapour pressure es, and hence a lower vapour pressure difference (es - ea), and a lower reference evapotranspiration estimate.\n",
    "* **HUMIDITYY** with psychomretric or dewpoint temp or min and max relative humidity\n",
    "* **WIND SPEED** at 2 meter above soil, if at different height a modification most be calculated"
   ]
  },
  {
   "cell_type": "code",
   "execution_count": 18,
   "metadata": {},
   "outputs": [
    {
     "data": {
      "text/plain": [
       "81.75579640764421"
      ]
     },
     "execution_count": 18,
     "metadata": {},
     "output_type": "execute_result"
    }
   ],
   "source": [
    "# ATMOSPHERIC PRESSURE [kPa]\n",
    "    # z = elevation above sea level [m] meters\n",
    "average_atmospheric_pressure = 101.3 * pow(((293 - 0.0065 * elevation_above_sea_level) / 293), 5.26) # EQUATION 7\n",
    "average_atmospheric_pressure"
   ]
  },
  {
   "cell_type": "code",
   "execution_count": 19,
   "metadata": {},
   "outputs": [
    {
     "data": {
      "text/plain": [
       "0.054346493707555336"
      ]
     },
     "execution_count": 19,
     "metadata": {},
     "output_type": "execute_result"
    }
   ],
   "source": [
    "# PSYCHROMETRICS CONSTANT [kPa / °C]\n",
    "    # γ = psychrometric constant [kPa / °C]\n",
    "     # λ = latent heat of vaporization, 2.45 [MJ / kg]\n",
    "     # Cp = specific heat at constant pressure, 1.013 10-3 [MJ / kg * °C]\n",
    "     # ε = ratio molecular weight of water vapour/dry air = 0.622\n",
    "     # average_atmospheric_pressure = calculated befiore [kPa]\n",
    "psychrometric_constant = (SPECIFIC_AIR_HEAT_AT_CONSTANT_PRESSURE * average_atmospheric_pressure) / (RATIO_MOLECULAR_WEIGHT_WATER_VAPOUR_AND_DRY_AIR * VAPORIZATION_LATENT_HEAT)  # EQUATION 8\n",
    "# psychrometric_constant_two = 0.665e-3 * average_atmospheric_pressure # EQUATION 8 (the same as previous but accuracy is lost with generalization of decimals)\n",
    "psychrometric_constant # [kPa / °C]"
   ]
  },
  {
   "cell_type": "code",
   "execution_count": 20,
   "metadata": {},
   "outputs": [
    {
     "data": {
      "text/plain": [
       "21.5"
      ]
     },
     "execution_count": 20,
     "metadata": {},
     "output_type": "execute_result"
    }
   ],
   "source": [
    "# AIR TEMPERATURE [°C]\n",
    "    # mean temperature is the average of the max and min temnp throghout a 24h period - when calculating it might be a list mof average max and min then to take the mean since is a range of 10 days or longer\n",
    "\t# temperature in KELVIN\n",
    "air_temp_mean = mean([air_temp_max, air_temp_min]) # EQUATION 9\n",
    "air_temp_mean_in_kelvin = celcius_to_kelvin(air_temp_mean)\n",
    "air_temp_mean_in_kelvin\n",
    "air_temp_mean"
   ]
  },
  {
   "cell_type": "code",
   "execution_count": 21,
   "metadata": {},
   "outputs": [
    {
     "data": {
      "text/plain": [
       "2.6158834600836665"
      ]
     },
     "execution_count": 21,
     "metadata": {},
     "output_type": "execute_result"
    }
   ],
   "source": [
    "# MEAN SATURATION VAPOUR PRESSURE (es) [kPa]\n",
    "\t# As saturation vapour pressure is related to air temperature, it can be calculated from the air temperature. The relationship is expressed by\n",
    "\t# eo(T) saturation vapour pressure at the air temperature T [kPa]\n",
    "\t# air_temp = air temperature [°C]\n",
    "\t# exp[..] 2.7183 (base of natural logarithm) raised to the power [..].\n",
    "# //TODO check if eo formula is the right way to calculate this formula\n",
    "from math import expm1, exp\n",
    "eo_temp_max = 0.6108 * exp((17.27 * air_temp_max) / (air_temp_max + 237.3)) # EQUATION 11 # function based on temperature\n",
    "eo_temp_min = 0.6108 * exp((17.27 * air_temp_min) / (air_temp_min + 237.3)) # EQUATION 11 # function based on temperature\n",
    "# eo_temp_mean = 0.6108 * exp((17.27 * air_temp_mean_in_celcius) / (air_temp_mean_in_celcius + 237.3)) # EQUATION 11 # function based on temperature\n",
    "saturation_vapour_pressure = (eo_temp_max + eo_temp_min) / 2 # EQUATION 12\n",
    "# saturation_vapour_pressure_temp_mean = (eo_temp_mean + eo_temp_mean) / 2 # EQUATION 12\n",
    "saturation_vapour_pressure"
   ]
  },
  {
   "cell_type": "code",
   "execution_count": 22,
   "metadata": {},
   "outputs": [
    {
     "data": {
      "text/plain": [
       "0.15690345906391895"
      ]
     },
     "execution_count": 22,
     "metadata": {},
     "output_type": "execute_result"
    }
   ],
   "source": [
    "# SLOPE OF SATURATION VAPOUR PRESSURE CURVE (∆) [None]\n",
    "    # For the calculation of evapotranspiration, the slope of the relationship between saturation vapour pressure and\n",
    "    # temperature, ∆, is required. The slope of the curve (Figure 11) at a given temperature is given by.\n",
    "    # ∆ = slope of saturation vapour pressure curve at air temperature T [kPa / °C],\n",
    "    # air_temp = air temperature [°C],\n",
    "    # exp[..] 2.7183 (base of natural logarithm) raised to the power [..].\n",
    "    # Values of slope ∆ for different air temperatures are given in Annex 2 (Table 2.4). In the FAO Penman-Monteith\n",
    "    # equation, where ∆ occurs in the numerator and denominator, the slope of the vapour pressure curve is\n",
    "    # calculated using mean air temperature.\n",
    "saturation_vapour_pressure_slope = (4098 * 0.6108 * exp((17.27 * air_temp_mean) / (air_temp_mean + 237.3))) / (pow((air_temp_mean + 237.3), 2)) # EQUATION 13\n",
    "saturation_vapour_pressure_slope"
   ]
  },
  {
   "cell_type": "code",
   "execution_count": 23,
   "metadata": {},
   "outputs": [
    {
     "data": {
      "text/plain": [
       "1.7015355568176478"
      ]
     },
     "execution_count": 23,
     "metadata": {},
     "output_type": "execute_result"
    }
   ],
   "source": [
    "# this calculation has many errors, but to measure with more reliability, the dewpoint temperature is needed or the dry bulb temp andd wet bulb temp thta is measuremen with another sensor.\n",
    "# ACTUAL VAPOUR PRESSURE (ea) DERIVED FROM RELATIVE HUMIDITY DATA [kPa]\n",
    "    # ea = actual vapour pressure [kPa]\n",
    "    # eo_T_min = saturation vapour pressure at daily minimum temperature [kPa]\n",
    "    # eo_T_max = saturation vapour pressure at daily maximum temperature [kPa]\n",
    "    # RH_max = maximum relative humidity [%]\n",
    "    # RH_min = minimum relative humidity [%]\n",
    "\n",
    "# --for RH_max and RH_min\n",
    "actual_vapour_pressure_rh = (eo_temp_min * (air_rhumidity_max / 100) + eo_temp_max * (air_rhumidity_min / 100)) / 2 # EQUATION 17\n",
    "actual_vapour_pressure_rh"
   ]
  },
  {
   "cell_type": "code",
   "execution_count": 24,
   "metadata": {},
   "outputs": [
    {
     "data": {
      "text/plain": [
       "1.7788007528568932"
      ]
     },
     "execution_count": 24,
     "metadata": {},
     "output_type": "execute_result"
    }
   ],
   "source": [
    "# --for RH_mean -- In the absence of RH max and RH min , another equation can be used to estimate e a\n",
    "    # RH_mean = the mean relative humidity, defined as the average between RH max and RH min.\n",
    "\n",
    "actual_vapour_pressure_rh_mean = (air_rhumidity_mean / 100) * ((eo_temp_max + eo_temp_min) / 2) # EQUATION 19\n",
    "actual_vapour_pressure_rh_mean"
   ]
  },
  {
   "cell_type": "code",
   "execution_count": 25,
   "metadata": {},
   "outputs": [
    {
     "data": {
      "text/plain": [
       "0.9143479032660187"
      ]
     },
     "execution_count": 25,
     "metadata": {},
     "output_type": "execute_result"
    }
   ],
   "source": [
    "# VAPOUR PRESSURE DEFICIT (es - ea) [kPa]\n",
    "    # The vapour pressure deficit is the difference between the saturation (es) and actual vapour pressure (ea) for a\n",
    "    # given time period. For time periods such as a week, ten days or a month e s is computed from Equation 12 using\n",
    "    # the T max and T min averaged over the time period and similarly the e a is computed with one of the equations 4 to\n",
    "    # 19, using average measurements over the period.\n",
    "vapour_pressure_deficit = saturation_vapour_pressure - actual_vapour_pressure_rh\n",
    "vapour_pressure_deficit"
   ]
  },
  {
   "cell_type": "markdown",
   "metadata": {},
   "source": [
    "# STEP # 3\n",
    " \n",
    "## SUN ANALYSIS\n",
    "---\n",
    "\n",
    "* **EXTRATERRESTRIAL RADIATION**  radiation that reacvh atmosphere [MJ / m2 * day]\n",
    "* _daily or shorter periods measurements_"
   ]
  },
  {
   "cell_type": "code",
   "execution_count": 26,
   "metadata": {},
   "outputs": [
    {
     "data": {
      "text/plain": [
       "25.29268412905211"
      ]
     },
     "execution_count": 26,
     "metadata": {},
     "output_type": "execute_result"
    }
   ],
   "source": [
    "# EXTRATERRESTRIAL RADIATION (Ra) [MJ / pow(m, 2) * day]\n",
    "from math import pi, sin, cos, tan, acos\n",
    "    # day_of_the_year = is the number of the day in the year between 1 (1 January) and 365 or 366 (31 December)\n",
    "inverse_rdistance_earth_sun = 1 + 0.033 * cos(((2 * pi) / 365) * day_of_the_year) # EQUATION 23\n",
    "solar_declination = 0.409 * sin(((2 * pi) / 365) * day_of_the_year - 1.39) # EQUATION 24\n",
    "sunset_hour_angle = acos(-tan(latitude) * tan(solar_declination)) # EQUATION 25\n",
    "    # Ra = extraterrestrial radiation [MJ / m * day]\n",
    "    # dr = inverse relative distance Earth-Sun (Equation 23)\n",
    "    # φ = latitude [rad] (Equation 22)\n",
    "    # Gsc = solar constant = 0.0820 MJ m min\n",
    "    # ωs = sunset hour angle (Equation 25 or 26) [rad]\n",
    "    # δ = solar decimation (Equation 24) [rad]\n",
    "extraterrestrial_radiation = ((24 * 60) / pi) * SOLAR_CONSTANT * inverse_rdistance_earth_sun * (sunset_hour_angle * sin(latitude) * sin(solar_declination) + cos(latitude) * cos(solar_declination) * sin(sunset_hour_angle)) # EUQATION 21\n",
    "extraterrestrial_radiation"
   ]
  },
  {
   "cell_type": "code",
   "execution_count": 27,
   "metadata": {},
   "outputs": [
    {
     "data": {
      "text/plain": [
       "10.31941512465326"
      ]
     },
     "execution_count": 27,
     "metadata": {},
     "output_type": "execute_result"
    }
   ],
   "source": [
    "# the water lost in mm / day (water depths units) due to extraterrestrial radiation. that is if only the radiation that reach the atmosphere would hit the ground on earth\n",
    "extraterrestrial_radiation_mm = MJ_per_m2_day_to_mm_per_day(extraterrestrial_radiation)\n",
    "extraterrestrial_radiation_mm"
   ]
  },
  {
   "cell_type": "code",
   "execution_count": 28,
   "metadata": {},
   "outputs": [
    {
     "ename": "SyntaxError",
     "evalue": "invalid syntax (<ipython-input-28-70bd72aef421>, line 10)",
     "output_type": "error",
     "traceback": [
      "\u001b[0;36m  File \u001b[0;32m\"<ipython-input-28-70bd72aef421>\"\u001b[0;36m, line \u001b[0;32m10\u001b[0m\n\u001b[0;31m    Sc = 0.1645 * sin(2b) - 0.1255 * cos(b) - 0.025 * sin(b) # EQUATION 32\u001b[0m\n\u001b[0m                       ^\u001b[0m\n\u001b[0;31mSyntaxError\u001b[0m\u001b[0;31m:\u001b[0m invalid syntax\n"
     ]
    }
   ],
   "source": [
    "# EXTRATERRESTRIAL RADIATION FOR HOURLY OR SHORTER PERIODS (Ra)\n",
    "    # t = standard clock time at the midpoint of the period [hour]. For example for a period between 14.00 and 15.00 hours, t = 14.5,\n",
    "    # Lz = longitude of the centre of the local time zone [degrees west of Greenwich]. For example, Lz = 75, 90, 105 and 120° for the Eastern, Central, Rocky Mountain and Pacific time zones (United States) and Lz = 0° for Greenwich, 330° for Cairo (Egypt), and 255° for Bangkok (Thailand),\n",
    "    # Lm = longitude of the measurement site [degrees west of Greenwich],\n",
    "    # Sc = seasonal correction for solar time [hour].\n",
    "    # Of course, ω < -ω s or ω > ω s from Equation 31 indicates that the sun is below the horizon so that, by definition, Ra is zero.\n",
    "ω = (pi / 12) * ((t + 0.066667 * (Lz - Lm) + Sc) - 12) # EQUATION 31\n",
    "    # day_of_the_year = is the number of the day in the year between 1 (1 January) and 365 or 366 (31 December)\n",
    "b = (2 * pi * (day_of_the_year - 81)) / 364 # EQUATION 33\n",
    "Sc = 0.1645 * sin(2b) - 0.1255 * cos(b) - 0.025 * sin(b) # EQUATION 32\n",
    "    # ω = solar time angle at midpoint of hourly or shorter period [rad],\n",
    "    # t1 = length of the calculation period [hour]: i.e., 1 for hourly period or 0.5 for a 30-minute period.\n",
    "ωs1 = ω - ((pi * t1) / 24) # EQUATION 29\n",
    "ωs2 = ω + ((pi * t1) / 24) # EQUATION 30\n",
    "    # Ra = extraterrestrial radiation in the hour (or shorter) period [MJ / pow(m, 2) * hour]\n",
    "    # Gsc = solar constant = 0.0820 MJ / pow(m, 2) * min\n",
    "    # dr = inverse relative distance Earth-Sun (Equation 23)\n",
    "    # δ = solar declination [rad] (Equation 24)\n",
    "    # φ = latitude [rad] (Equation 22)\n",
    "    # ωs1 = solar time angle at beginning of period [rad] (Equation 29)\n",
    "    # ωs2 = solar time angle at end of period [rad] (Equation 30)\n",
    "Ra = ((12 * 60) / pi) * Gsc * dr * ((ωs2 - ωs1) * sin(φ) * cos(δ) + cos(φ) * cos(δ) * (sin(ωs2) - sin(ωs1)) ) # EUQATION 28"
   ]
  },
  {
   "cell_type": "code",
   "execution_count": 29,
   "metadata": {},
   "outputs": [
    {
     "data": {
      "text/plain": [
       "10.914524515584047"
      ]
     },
     "execution_count": 29,
     "metadata": {},
     "output_type": "execute_result"
    }
   ],
   "source": [
    "# DAYLIGHT HOURS (N) [hours]\n",
    "    # ωs = the sunset hour angle in radians given by Equation 25 or 26. Mean values for N\n",
    "max_daylight_hour_duration = (24 / pi) * sunset_hour_angle # EQUATION 34\n",
    "max_daylight_hour_duration"
   ]
  },
  {
   "cell_type": "code",
   "execution_count": 30,
   "metadata": {},
   "outputs": [
    {
     "data": {
      "text/plain": [
       "14.54973450096309"
      ]
     },
     "execution_count": 30,
     "metadata": {},
     "output_type": "execute_result"
    }
   ],
   "source": [
    "# SOLAR RADIATION (Rs) [MJ / m * day]\n",
    "    # If the solar radiation, Rs, is not measured, it can be calculated with the Angstrom formula which relates solar\n",
    "    # radiation to extraterrestrial radiation and relative sunshine duration:\n",
    "\n",
    "    # Rs = solar or shortwave radiation [MJ / m * day]\n",
    "    # n = actual duration of sunshine [hour]\n",
    "    # N = maximum possible duration of sunshine or daylight hours [hour]\n",
    "    # n/N = relative sunshine duration [-]\n",
    "    # Ra = extraterrestrial radiation [MJ / m * day]\n",
    "    # as = regression constant, expressing the fraction of extraterrestrial radiation reaching the earth on overcast days (n = 0),\n",
    "    # as + bs = fraction of extraterrestrial radiation reaching the earth on clear days (n = N).\n",
    "    # Rs is expressed in the above equation in [MJ / m * day]. The corresponding equivalent evaporation in [mm / day] is\n",
    "    # obtained by multiplying Rs by 0.408 (Equation 20). Depending on atmospheric conditions (humidity, dust) and\n",
    "    # solar declination (latitude and month), the Angstrom values a s and b s will vary. Where no actual solar radiation\n",
    "    # data are available and no calibration has been carried out for improved as and bs parameters, the values as = 0.25 and bs = 0.50 are recommended.\n",
    "    \n",
    "    # RULE OF THUMBS\n",
    "    # for cloudless days Rs circa 75% of Ra\n",
    "    # for cloudy days    Rs circa 25% of Ra\n",
    "    \n",
    "global_radiation = (REGRESSION_CONSTANT + FRACTION_EXTRATERRESTRIAL_RADIATION * (measured_daylight_hour_duration / max_daylight_hour_duration)) * extraterrestrial_radiation # EQUATION 35\n",
    "global_radiation"
   ]
  },
  {
   "cell_type": "code",
   "execution_count": 31,
   "metadata": {},
   "outputs": [
    {
     "data": {
      "text/plain": [
       "5.9362916763929405"
      ]
     },
     "execution_count": 31,
     "metadata": {},
     "output_type": "execute_result"
    }
   ],
   "source": [
    "# the water lost in mm / day (water depths units) due to global radiation reaching the earth\n",
    "global_radiation_mm = MJ_per_m2_day_to_mm_per_day(global_radiation)\n",
    "global_radiation_mm"
   ]
  },
  {
   "cell_type": "code",
   "execution_count": 32,
   "metadata": {},
   "outputs": [
    {
     "data": {
      "text/plain": [
       "18.969513096789083"
      ]
     },
     "execution_count": 32,
     "metadata": {},
     "output_type": "execute_result"
    }
   ],
   "source": [
    "# THIS IS ONLY TO CALCULATE THE MAXIMUM GLOBAL RADIATION CAN REACH THE EARTH.\n",
    "#     the same formula is used in global radiation, but here (n = N) or (measured_daylight_length = max_daylight_length)\n",
    "# CLEAR-SKY SOLAR RADIATION (Rso)\n",
    "    # The calculation of the clear-sky radiation, Rso, when n = N, is required for computing net longwave radiation.\n",
    "    # Rso = clear-sky solar radiation [MJ / m * day]\n",
    "    # as + bs = fraction of extraterrestrial radiation reaching the earth on clear-sky days (n = N)\n",
    "# --For near sea level or when calibrated values for as and bs are available --\n",
    "global_radiation_clear_sky = (REGRESSION_CONSTANT + FRACTION_EXTRATERRESTRIAL_RADIATION) * extraterrestrial_radiation # EQUATION 36\n",
    "global_radiation_clear_sky"
   ]
  },
  {
   "cell_type": "code",
   "execution_count": 33,
   "metadata": {},
   "outputs": [
    {
     "data": {
      "text/plain": [
       "7.739561343489945"
      ]
     },
     "execution_count": 33,
     "metadata": {},
     "output_type": "execute_result"
    }
   ],
   "source": [
    "# the water lost in mm / day (water depths units) due to global radiation with a clear sky reaching the earth\n",
    "global_radiation_clear_sky_mm = MJ_per_m2_day_to_mm_per_day(global_radiation_clear_sky)\n",
    "global_radiation_clear_sky_mm"
   ]
  },
  {
   "cell_type": "code",
   "execution_count": 34,
   "metadata": {},
   "outputs": [
    {
     "data": {
      "text/plain": [
       "11.20329556574158"
      ]
     },
     "execution_count": 34,
     "metadata": {},
     "output_type": "execute_result"
    }
   ],
   "source": [
    "# NET SOLAR OR NET SHORTWAVE RADIATION (Rns) [MJ / m * day]\n",
    "    # Rns = net solar or shortwave radiation [MJ / pow(m, 2) * day]\n",
    "    # αlbedo = albedo or canopy reflection coefficient, which is 0.23 for the hypothetical grass reference crop [dimensionless]\n",
    "    # Rs = the incoming solar radiation [MJ / m * day]\n",
    "    # Rns = is expressed in the above equation in [MJ / pow(m, 2) * day]\n",
    "net_shortwave_radiation = (1 - albedo) * global_radiation # EQUATION 38\n",
    "# the global radiation receive on earh minus the radiation that is reflected back by the albedo factor\n",
    "net_shortwave_radiation"
   ]
  },
  {
   "cell_type": "code",
   "execution_count": 35,
   "metadata": {},
   "outputs": [
    {
     "data": {
      "text/plain": [
       "4.570944590822564"
      ]
     },
     "execution_count": 35,
     "metadata": {},
     "output_type": "execute_result"
    }
   ],
   "source": [
    "# the water lost in mm / day (water depths units) due to global radiation reaching the earth less the radiation that is reflected back to space - factor called albedo\n",
    "net_shortwave_radiation_mm = MJ_per_m2_day_to_mm_per_day(net_shortwave_radiation)\n",
    "net_shortwave_radiation_mm"
   ]
  },
  {
   "cell_type": "code",
   "execution_count": 36,
   "metadata": {},
   "outputs": [
    {
     "data": {
      "text/plain": [
       "3.990658132475608"
      ]
     },
     "execution_count": 36,
     "metadata": {},
     "output_type": "execute_result"
    }
   ],
   "source": [
    "# NET LONGWAVE RADIATION (Rnl) [MJ / m * day]\n",
    "    # Rnl = net outgoing longwave radiation [MJ pow(m, 2) * day]\n",
    "    # σ = Stefan-Boltzmann constant [4.903 10 -9 MJ / pow(K, 4) * pow(m, 2) * day]\n",
    "    # T_max_k = maximum absolute temperature during the 24-hour period [K = °C + 273.16]\n",
    "    # T_min_k = minimum absolute temperature during the 24-hour period [K = °C + 273.16]\n",
    "    # ea = actual vapour pressure [kPa]\n",
    "    # Rs / Rso = relative shortwave radiation (limited to ≤ 1.0)\n",
    "    # Rs = measured or calculated. (Equation 35) solar radiation [MJ / pow(m, 2) * day]\n",
    "    # Rso = calculated (Equation 36 or 37) clear-sky radiation [MJ / pow(m, 2) * day]\n",
    "from math import sqrt\n",
    "air_temp_max_in_kelvin = celcius_to_kelvin(air_temp_max)\n",
    "air_temp_min_in_kelvin = celcius_to_kelvin(air_temp_min)\n",
    "net_longwave_radiation = STEFAN_BOLTZMANN_CONSTANT * ((pow(air_temp_max_in_kelvin, 4) + pow(air_temp_min_in_kelvin, 4)) / 2) * (0.34 - 0.14 * sqrt(actual_vapour_pressure_rh)) * (1.35 * (global_radiation / global_radiation_clear_sky) - 0.35) # EQUATION 39\n",
    "net_longwave_radiation"
   ]
  },
  {
   "cell_type": "code",
   "execution_count": 37,
   "metadata": {},
   "outputs": [
    {
     "data": {
      "text/plain": [
       "7.212637433265972"
      ]
     },
     "execution_count": 37,
     "metadata": {},
     "output_type": "execute_result"
    }
   ],
   "source": [
    "# NET RADIATION (Rn) [MJ / m * day]\n",
    "    # The net radiation (R n ) is the difference between the incoming net shortwave radiation (R ns ) and the outgoing net longwave radiation (R nl )\n",
    "net_radiation = net_shortwave_radiation - net_longwave_radiation # EQUATION 40\n",
    "net_radiation"
   ]
  },
  {
   "cell_type": "code",
   "execution_count": 38,
   "metadata": {},
   "outputs": [
    {
     "data": {
      "text/plain": [
       "2.9427560727725166"
      ]
     },
     "execution_count": 38,
     "metadata": {},
     "output_type": "execute_result"
    }
   ],
   "source": [
    "net_radiation_mm =  MJ_per_m2_day_to_mm_per_day(net_radiation)\n",
    "# the amount of mm of water in a surface that is evaporated by the energy of the sun throughout a period of time per day that \n",
    "net_radiation_mm"
   ]
  },
  {
   "cell_type": "markdown",
   "metadata": {},
   "source": [
    "# STEP # 4\n",
    " \n",
    "## SOIL ANALYSIS\n",
    "---\n",
    "\n",
    "* **SOIL HEAT FLUX (G)**"
   ]
  },
  {
   "cell_type": "code",
   "execution_count": 39,
   "metadata": {},
   "outputs": [
    {
     "data": {
      "text/plain": [
       "'G_day = 0, G_month_next_previous = 0.3290000000000001, G_month_current_previous = 0.28000000000000025, G_hour_day = 0.7212637433265973, G_hour_night = 3.606318716632986'"
      ]
     },
     "execution_count": 39,
     "metadata": {},
     "output_type": "execute_result"
    }
   ],
   "source": [
    "# SOIL HEAT FLUX (G)\n",
    "    #\n",
    "    # -- For day and ten-day periods --\n",
    "    # As the magnitude of the day or ten-day soil heat flux beneath the grass reference surface is relatively\n",
    "    # small, it may be ignored and thus:\n",
    "G_day = 0 # EQUATION 42\n",
    "    # -- for monthly periods\n",
    "    # When assuming a constant soil heat capacity of 2.1 MJ m-3 °C-1 and an appropriate soil depth,\n",
    "    # Equation 41 can be used to derive G for monthly periods:\n",
    "G_month_next_previous = 0.07 * (air_temp_next_month - air_temp_previous_month)\n",
    "    # if air_temp_next_month (1 month in the future of calculation) is not available then\n",
    "G_month_current_previous = 0.14 * (air_temp_current_month - air_temp_previous_month)\n",
    "    # -- For hourly or shorter periods --\n",
    "    # For hourly (or shorter) calculations, G beneath a dense cover of grass does not correlate well with air\n",
    "    # temperature. Hourly G can be approximated during DAYLIGHT periods as:\n",
    "G_hour_day = 0.1 * net_radiation # EQUATION 45\n",
    "    # and during NIGHTTIME periods as:\n",
    "G_hour_night = 0.5 * net_radiation # EQUATION 46\n",
    "    # Where the soil is warming, the soil heat flux G is positive. The amount of energy required for this\n",
    "    # process is subtracted from R n when estimating evapotranspiration.\n",
    "'G_day = {0}, G_month_next_previous = {1}, G_month_current_previous = {2}, G_hour_day = {3}, G_hour_night = {4}'.format(G_day, G_month_next_previous, G_month_current_previous, G_hour_day, G_hour_night)"
   ]
  },
  {
   "cell_type": "code",
   "execution_count": 40,
   "metadata": {},
   "outputs": [
    {
     "data": {
      "text/plain": [
       "0"
      ]
     },
     "execution_count": 40,
     "metadata": {},
     "output_type": "execute_result"
    }
   ],
   "source": [
    "soil_heat_flux = G_day\n",
    "soil_heat_flux"
   ]
  },
  {
   "cell_type": "markdown",
   "metadata": {},
   "source": [
    "# STEP # 5\n",
    " \n",
    "## WIND ANALYSIS\n",
    "---\n",
    "\n",
    "**WIND PROFILE RELATIONSHIP**\n",
    "* Wind speeds measured at different heights above the soil surface are different. Surface friction tends to slow down wind passing over it. Wind speed is slowest at the surface and increases with height.\n",
    "* For this reason anemometers are placed at a chosen standard height, i.e.,10 m in meteorology and 2 or 3 m in agrometeorology. For the calculation of evapotranspiration, wind speed measured at 2m above the surface is required. To adjust wind speed data obtained from insruments placed atelevations other than the standard height of 2 m, a logarithmic wind speed profile may be used for measurements above a short grassed surface\n",
    "\n",
    "1. u2 = wind speed at 2 m above ground surface [m / s]\n",
    "2. uz = measured wind speed at z m above ground surface [m * s]\n",
    "3. z = height of measurement above ground surface [m]\n",
    "* The corresponding multipliers or conversion factors are given in Annex 2 (Table 2.9) and are plotted in Figure 16."
   ]
  },
  {
   "cell_type": "code",
   "execution_count": 41,
   "metadata": {},
   "outputs": [
    {
     "data": {
      "text/plain": [
       "0.872342617516981"
      ]
     },
     "execution_count": 41,
     "metadata": {},
     "output_type": "execute_result"
    }
   ],
   "source": [
    "from math import log\n",
    "wind_speed_at_2m = wind_speed_measurement * (4.87 / log(67.8 * wind_speed_measurement_height - 5.42))\n",
    "# the wind measurements ideally is at 2m above soil, however if data with different height is used this convertor factor aids calculating its conversion FIGURE 16 FIGURE 16\n",
    "# Conversion factor to convert wind speed measured at a certain height above ground level to wind speed at the standard height (2 m) \n",
    "wind_speed_at_2m # [m / s]"
   ]
  },
  {
   "cell_type": "markdown",
   "metadata": {},
   "source": [
    "# STEP # FINAL\n",
    " \n",
    "## EVAPOTRANSPIRATION CROP REFERENCE ANALYSIS"
   ]
  },
  {
   "cell_type": "code",
   "execution_count": 42,
   "metadata": {},
   "outputs": [
    {
     "data": {
      "text/plain": [
       "261.8129625057894"
      ]
     },
     "execution_count": 42,
     "metadata": {},
     "output_type": "execute_result"
    }
   ],
   "source": [
    "# INCORRECT\n",
    "# AREODYNAMIC RESISTANCE (ra) [s / m]\n",
    "    # ra = aerodynamic resistances [s / m]\n",
    "    # wind_speed_measurement_height = height of wind measurements [m] meters\n",
    "    # air_rh _measurement_height = height of humidity measurements [m] meters\n",
    "    # d = zero plane displacement height [m] meters\n",
    "    # Zom = roughness length governing momentum transfer [m] meters\n",
    "    # Zoh = roughness length governing transfer of heat and vapour [m] meters\n",
    "    # k = von Karman's constant, 0.41 [None]\n",
    "    # Uz = wind speed at height z [m / s]\n",
    "from math import log, pow\n",
    "d = (2 / 3) * crop_height_ref\n",
    "Zom = 0.123 * crop_height_ref\n",
    "Zoh = 0.1 * Zom\n",
    "aerodynamic_resistance = (log((wind_speed_measurement_height - d) / Zom) * log((air_rh_measurement_height - d) / Zoh)) / (pow(KARMAN_CONSTANT, 2) * wind_speed_measurement) # EQUATION 4\n",
    "aerodynamic_resistance"
   ]
  },
  {
   "cell_type": "code",
   "execution_count": 43,
   "metadata": {},
   "outputs": [
    {
     "data": {
      "text/plain": [
       "69.44444444444444"
      ]
     },
     "execution_count": 43,
     "metadata": {},
     "output_type": "execute_result"
    }
   ],
   "source": [
    "# (BULK) SURFACE RESISTANCE (rs) [s / m]\n",
    "    # rs = (bulk) surface resistances [s / m]\n",
    "    # rl = bulk stomatal resistance of the well-illuminated leaf [s pow(m, -1)]\n",
    "    # LAI_active = active (sunlit) leaf area index [pow(m, 2) (leaf area) pow(m, -2) (soil surface)] meters\n",
    "        # The LAI values for various crops differ widely but values of 3-5 are common for many mature crops. For a given\n",
    "        # crop, green LAI changes throughout the season and normally reaches its maximum before or at flowering\n",
    "        # LAI further depends on the plant density and the crop variety.\n",
    "        # A general equation for LAIactive is: LAI_active = 0.5 LAI\n",
    "            # which takes into consideration the fact that generally only the upper half of dense clipped grass is actively\n",
    "            # contributing to the surface heat and vapour transfer. For clipped grass a general equation for LAI is:\n",
    "            # LAI = 24 * h\n",
    "            # where h is the crop height [m] meter\n",
    "            # The stomatal resistance, rl of a single leaf has a value of about 100 s m-1 under well-watered conditions\n",
    "LAI = 24 * crop_height_ref\n",
    "LAI_active = 0.5 * LAI\n",
    "surface_resistance = STOMATAL_RESISTANCE / LAI_active # EQUATION 5\n",
    "surface_resistance"
   ]
  },
  {
   "cell_type": "code",
   "execution_count": 45,
   "metadata": {},
   "outputs": [
    {
     "data": {
      "text/plain": [
       "2.670933162914566"
      ]
     },
     "execution_count": 45,
     "metadata": {},
     "output_type": "execute_result"
    }
   ],
   "source": [
    "# \"A hypothetical reference crop with an assumed crop height of 0.12 m, a fixed surface resistance of 70 s m-1 and an albedo of 0.23.\"\n",
    "#     used to arrrive at this particular formula ( considering wind and rh temp measurement at height of 2 meters and witha constant pressure etc.)\n",
    "# REFERENCE CROP EVAPOTRANSPIRATION [mm / day]\n",
    "    # ETo = reference evapotranspiration [mm / day]\n",
    "    # Rn = net radiation at the crop surface [MJ / (pow(m, 2) * day]\n",
    "    # G = soil heat flux density [MJ / (pow(m, 2) * day)]\n",
    "    # T = mean daily air temperature at 2 m height [°C]\n",
    "    # Uz = wind speed at z or 2 m height [m / s] # calculations should be done at 2 m height\n",
    "    # es = saturation vapour pressure [kPa]\n",
    "    # ea = actual vapour pressure [kPa]\n",
    "    # es - ea = saturation vapour pressure deficit [kPa]\n",
    "    # ∆ = slope vapour pressure curve [kPa / °C]\n",
    "    # γ = psychrometric constant [kPa / °C]\n",
    "        # Radiation is MJ / pow(m, 2) * day -> (converted to mm / day) = radiation / 2.45 = 0.408*radiation = [mm / day]\n",
    "        # (∆ * (Rn - G) + Pa * Cp * ((es - ea) / ra)) / (∆ + γ * (1 + (rs / ra))) # EQUATION 3\n",
    "evapotranspiration_ref = (0.408 * saturation_vapour_pressure_slope * (net_radiation - soil_heat_flux) + psychrometric_constant * (900 / (air_temp_mean + 273)) * wind_speed_measurement * (saturation_vapour_pressure - actual_vapour_pressure_rh)) / (saturation_vapour_pressure_slope + psychrometric_constant * (1 + 0.34 * wind_speed_measurement)) # EQUATION 6\n",
    "evapotranspiration_ref\n",
    "# NOTE: calculating the psychrometric contants for norther hemisphere it should be positive and for sourtther hemisphere it should be negative\n",
    "# http://www.fao.org/docrep/X0490E/x0490e06.htm#TopOfPage"
   ]
  },
  {
   "cell_type": "code",
   "execution_count": null,
   "metadata": {},
   "outputs": [],
   "source": []
  },
  {
   "cell_type": "code",
   "execution_count": null,
   "metadata": {},
   "outputs": [],
   "source": []
  },
  {
   "cell_type": "code",
   "execution_count": null,
   "metadata": {},
   "outputs": [],
   "source": []
  }
 ],
 "metadata": {
  "kernelspec": {
   "display_name": "Python 3",
   "language": "python",
   "name": "python3"
  },
  "language_info": {
   "codemirror_mode": {
    "name": "ipython",
    "version": 3
   },
   "file_extension": ".py",
   "mimetype": "text/x-python",
   "name": "python",
   "nbconvert_exporter": "python",
   "pygments_lexer": "ipython3",
   "version": "3.6.6"
  }
 },
 "nbformat": 4,
 "nbformat_minor": 2
}
